{
  "nbformat": 4,
  "nbformat_minor": 0,
  "metadata": {
    "colab": {
      "name": "Untitled1.ipynb",
      "provenance": [],
      "mount_file_id": "1wwV32jl2kpIOyBLPrJhmtfzFdUnFXe-R",
      "authorship_tag": "ABX9TyO/b6DCpGP70/8TOySaS44J",
      "include_colab_link": true
    },
    "kernelspec": {
      "name": "python3",
      "display_name": "Python 3"
    }
  },
  "cells": [
    {
      "cell_type": "markdown",
      "metadata": {
        "id": "view-in-github",
        "colab_type": "text"
      },
      "source": [
        "<a href=\"https://colab.research.google.com/github/rizkiindrawan/Tugas11Python/blob/main/Tugas11Python_RizkiIndrawanT_1101208138_TTX4401.ipynb\" target=\"_parent\"><img src=\"https://colab.research.google.com/assets/colab-badge.svg\" alt=\"Open In Colab\"/></a>"
      ]
    },
    {
      "cell_type": "code",
      "metadata": {
        "colab": {
          "base_uri": "https://localhost:8080/"
        },
        "id": "Q3DYPU2hqN3i",
        "outputId": "cbd6e7d9-4e12-41d9-d038-0f7a6f85d368"
      },
      "source": [
        "cd /content/drive/MyDrive/Colab Notebooks"
      ],
      "execution_count": 1,
      "outputs": [
        {
          "output_type": "stream",
          "text": [
            "/content/drive/MyDrive/Colab Notebooks\n"
          ],
          "name": "stdout"
        }
      ]
    },
    {
      "cell_type": "code",
      "metadata": {
        "colab": {
          "base_uri": "https://localhost:8080/"
        },
        "id": "V88fJg9OqWWQ",
        "outputId": "4ed79370-64b4-4cf1-b350-97abb564fc9b"
      },
      "source": [
        "ls"
      ],
      "execution_count": 2,
      "outputs": [
        {
          "output_type": "stream",
          "text": [
            "\u001b[0m\u001b[01;34mcnn\u001b[0m/  \u001b[01;34mdataset\u001b[0m/  Untitled  Untitled0.ipynb  Untitled3.ipynb\n"
          ],
          "name": "stdout"
        }
      ]
    },
    {
      "cell_type": "code",
      "metadata": {
        "id": "wufuQ_XaqbUS"
      },
      "source": [
        "# import the necessary packages\n",
        "from keras.models import Sequential\n",
        "from keras.layers.core import Activation\n",
        "from keras.layers.core import Flatten\n",
        "from keras.layers.core import Dense\n",
        "from keras.optimizers import Adam\n",
        "from sklearn.preprocessing import LabelBinarizer\n",
        "from sklearn.model_selection import train_test_split\n",
        "from sklearn.metrics import classification_report\n",
        "from PIL import Image\n",
        "from imutils import paths\n",
        "import numpy as np\n",
        "import os"
      ],
      "execution_count": 3,
      "outputs": []
    },
    {
      "cell_type": "code",
      "metadata": {
        "colab": {
          "base_uri": "https://localhost:8080/"
        },
        "id": "cWfufNzIqhmz",
        "outputId": "dfb3d247-9e3d-4e26-c0e9-c7757d396bd2"
      },
      "source": [
        "# grab all image paths in the input dataset directory, then initialize\n",
        "# our list of images and corresponding class labels\n",
        "print(\"[INFO] loading images...\")\n",
        "imagePaths = paths.list_images(\"cnn\")\n",
        "data = []\n",
        "labels = []"
      ],
      "execution_count": 5,
      "outputs": [
        {
          "output_type": "stream",
          "text": [
            "[INFO] loading images...\n"
          ],
          "name": "stdout"
        }
      ]
    },
    {
      "cell_type": "code",
      "metadata": {
        "id": "fI3HTzsiqmJn"
      },
      "source": [
        "# loop over our input images\n",
        "for imagePath in imagePaths:\n",
        "\t# load the input image from disk, resize it to 32X32 pixels, scale\n",
        "\t# the pixel intensities to the range [0, 1], and then update our\n",
        "\t# images list\n",
        "\timage = Image.open(imagePath)\n",
        "  #preprocessing\n",
        "\timage = np.array(image.resize((32, 32))) / 255.0 #normalisasi\n",
        "\tdata.append(image)\n",
        "\n",
        "\t# extract the class label from the file path and update the\n",
        "\t# labels list\n",
        "\tlabel = imagePath.split(os.path.sep)[-2]\n",
        "\tlabels.append(label)"
      ],
      "execution_count": 6,
      "outputs": []
    },
    {
      "cell_type": "code",
      "metadata": {
        "colab": {
          "base_uri": "https://localhost:8080/"
        },
        "id": "uCUWGSfWtY3O",
        "outputId": "e855c3b2-89be-427f-b6e8-50dfd29d5b80"
      },
      "source": [
        "print(labels)"
      ],
      "execution_count": 7,
      "outputs": [
        {
          "output_type": "stream",
          "text": [
            "['GMB_07', 'GMB_07', 'GMB_07', 'GMB_07', 'GMB_07', 'GMB_07', 'GMB_07', 'GMB_07', 'GMB_07', 'GMB_07', 'GMB_07', 'GMB_07', 'GMB_07', 'GMB_07', 'GMB_07', 'GMB_07', 'GMB_07', 'GMB_07', 'GMB_07', 'GMB_07', 'GMB_07', 'GMB_07', 'GMB_07', 'GMB_07', 'GMB_07', 'GMB_07', 'GMB_07', 'GMB_07', 'GMB_07', 'GMB_07', 'GMB_07', 'GMB_07', 'GMB_07', 'GMB_07', 'GMB_07', 'GMB_07', 'GMB_07', 'GMB_07', 'GMB_07', 'GMB_07', 'GMB_07', 'GMB_07', 'GMB_07', 'GMB_07', 'GMB_07', 'GMB_07', 'GMB_07', 'GMB_07', 'GMB_07', 'GMB_07', 'GMB_07', 'GMB_07', 'GMB_07', 'GMB_07', 'GMB_07', 'GMB_07', 'GMB_07', 'GMB_07', 'GMB_07', 'GMB_07', 'GMB_07', 'GMB_07', 'GMB_07', 'GMB_07', 'GMB_07', 'GMB_07', 'GMB_07', 'GMB_07', 'GMB_07', 'GMB_07', 'GMB_07', 'GMB_07', 'GMB_07', 'GMB_07', 'GMB_07', 'GMB_07', 'GMB_07', 'GMB_07', 'GMB_07', 'GMB_07', 'GMB_07', 'GMB_07', 'GMB_07', 'GMB_07', 'GMB_07', 'GMB_07', 'GMB_07', 'GMB_07', 'GMB_07', 'GMB_07', 'GMB_07', 'GMB_07', 'GMB_07', 'GMB_07', 'GMB_07', 'GMB_07', 'GMB_07', 'GMB_07', 'GMB_07', 'GMB_07', 'GMB_07', 'GMB_07', 'GMB_07', 'GMB_07', 'GMB_07', 'GMB_07', 'GMB_07', 'GMB_07', 'GMB_07', 'GMB_07', 'GMB_07', 'GMB_07', 'GMB_07', 'GMB_07', 'GMB_07', 'GMB_07', 'GMB_07', 'GMB_07', 'GMB_07', 'GMB_07', 'GMB_07', 'GMB_01', 'GMB_01', 'GMB_01', 'GMB_01', 'GMB_01', 'GMB_01', 'GMB_01', 'GMB_01', 'GMB_01', 'GMB_01', 'GMB_01', 'GMB_01', 'GMB_01', 'GMB_01', 'GMB_01', 'GMB_01', 'GMB_01', 'GMB_01', 'GMB_01', 'GMB_01', 'GMB_01', 'GMB_01', 'GMB_01', 'GMB_01', 'GMB_01', 'GMB_01', 'GMB_01', 'GMB_01', 'GMB_01', 'GMB_01', 'GMB_01', 'GMB_01', 'GMB_01', 'GMB_01', 'GMB_01', 'GMB_01', 'GMB_01', 'GMB_01', 'GMB_01', 'GMB_01', 'GMB_01', 'GMB_01', 'GMB_01', 'GMB_01', 'GMB_01', 'GMB_01', 'GMB_01', 'GMB_01', 'GMB_01', 'GMB_01', 'GMB_01', 'GMB_01', 'GMB_01', 'GMB_01', 'GMB_01', 'GMB_01', 'GMB_01', 'GMB_01', 'GMB_01', 'GMB_01', 'GMB_01', 'GMB_01', 'GMB_01', 'GMB_01', 'GMB_01', 'GMB_01', 'GMB_01', 'GMB_01', 'GMB_01', 'GMB_01', 'GMB_01', 'GMB_01', 'GMB_01', 'GMB_01', 'GMB_01', 'GMB_01', 'GMB_01', 'GMB_01', 'GMB_01', 'GMB_01', 'GMB_01', 'GMB_01', 'GMB_01', 'GMB_01', 'GMB_01', 'GMB_01', 'GMB_01', 'GMB_01', 'GMB_01', 'GMB_01', 'GMB_01', 'GMB_01', 'GMB_01', 'GMB_01', 'GMB_01', 'GMB_01', 'GMB_01', 'GMB_01', 'GMB_01', 'GMB_01', 'GMB_01', 'GMB_01', 'GMB_01', 'GMB_01', 'GMB_01', 'GMB_01', 'GMB_01', 'GMB_01', 'GMB_01', 'GMB_01', 'GMB_01', 'GMB_01', 'GMB_01', 'GMB_01', 'GMB_01', 'GMB_01', 'GMB_05', 'GMB_05', 'GMB_05', 'GMB_05', 'GMB_05', 'GMB_05', 'GMB_05', 'GMB_05', 'GMB_05', 'GMB_05', 'GMB_05', 'GMB_05', 'GMB_05', 'GMB_05', 'GMB_05', 'GMB_05', 'GMB_05', 'GMB_05', 'GMB_05', 'GMB_05', 'GMB_05', 'GMB_05', 'GMB_05', 'GMB_05', 'GMB_05', 'GMB_05', 'GMB_05', 'GMB_05', 'GMB_05', 'GMB_05', 'GMB_05', 'GMB_05', 'GMB_05', 'GMB_05', 'GMB_05', 'GMB_05', 'GMB_05', 'GMB_05', 'GMB_05', 'GMB_05', 'GMB_05', 'GMB_05', 'GMB_05', 'GMB_05', 'GMB_05', 'GMB_05', 'GMB_05', 'GMB_05', 'GMB_05', 'GMB_05', 'GMB_05', 'GMB_05', 'GMB_05', 'GMB_05', 'GMB_05', 'GMB_05', 'GMB_05', 'GMB_05', 'GMB_05', 'GMB_05', 'GMB_05', 'GMB_05', 'GMB_05', 'GMB_05', 'GMB_05', 'GMB_05', 'GMB_05', 'GMB_05', 'GMB_05', 'GMB_05', 'GMB_05', 'GMB_05', 'GMB_05', 'GMB_05', 'GMB_05', 'GMB_05', 'GMB_05', 'GMB_05', 'GMB_05', 'GMB_05', 'GMB_05', 'GMB_05', 'GMB_05', 'GMB_05', 'GMB_05', 'GMB_05', 'GMB_05', 'GMB_05', 'GMB_05', 'GMB_05', 'GMB_05', 'GMB_05', 'GMB_05', 'GMB_05', 'GMB_05', 'GMB_05', 'GMB_05', 'GMB_05', 'GMB_05', 'GMB_05', 'GMB_05', 'GMB_05', 'GMB_05', 'GMB_05', 'GMB_05', 'GMB_05', 'GMB_05', 'GMB_05', 'GMB_05', 'GMB_05', 'GMB_05', 'GMB_05', 'GMB_05', 'GMB_05', 'GMB_05', 'GMB_05', 'GMB_05', 'GMB_05', 'GMB_05', 'GMB_05', 'GMB_05', 'GMB_09', 'GMB_09', 'GMB_09', 'GMB_09', 'GMB_09', 'GMB_09', 'GMB_09', 'GMB_09', 'GMB_09', 'GMB_09', 'GMB_09', 'GMB_09', 'GMB_09', 'GMB_09', 'GMB_09', 'GMB_09', 'GMB_09', 'GMB_09', 'GMB_09', 'GMB_09', 'GMB_09', 'GMB_09', 'GMB_09', 'GMB_09', 'GMB_09', 'GMB_09', 'GMB_09', 'GMB_09', 'GMB_09', 'GMB_09', 'GMB_09', 'GMB_09', 'GMB_09', 'GMB_09', 'GMB_09', 'GMB_09', 'GMB_09', 'GMB_09', 'GMB_09', 'GMB_09', 'GMB_09', 'GMB_09', 'GMB_09', 'GMB_09', 'GMB_09', 'GMB_09', 'GMB_09', 'GMB_09', 'GMB_09', 'GMB_09', 'GMB_09', 'GMB_09', 'GMB_09', 'GMB_09', 'GMB_09', 'GMB_09', 'GMB_09', 'GMB_09', 'GMB_09', 'GMB_09', 'GMB_09', 'GMB_09', 'GMB_09', 'GMB_09', 'GMB_09', 'GMB_09', 'GMB_09', 'GMB_09', 'GMB_09', 'GMB_09', 'GMB_09', 'GMB_09', 'GMB_09', 'GMB_09', 'GMB_09', 'GMB_09', 'GMB_09', 'GMB_09', 'GMB_09', 'GMB_09', 'GMB_09', 'GMB_09', 'GMB_09', 'GMB_09', 'GMB_09', 'GMB_09', 'GMB_09', 'GMB_09', 'GMB_09', 'GMB_09', 'GMB_09', 'GMB_09', 'GMB_09', 'GMB_09', 'GMB_09', 'GMB_09', 'GMB_09', 'GMB_09', 'GMB_09', 'GMB_09', 'GMB_09', 'GMB_09', 'GMB_09', 'GMB_09', 'GMB_09', 'GMB_09', 'GMB_09', 'GMB_09', 'GMB_09', 'GMB_09', 'GMB_09', 'GMB_09', 'GMB_09', 'GMB_09', 'GMB_09', 'GMB_03', 'GMB_03', 'GMB_03', 'GMB_03', 'GMB_03', 'GMB_03', 'GMB_03', 'GMB_03', 'GMB_03', 'GMB_03', 'GMB_03', 'GMB_03', 'GMB_03', 'GMB_03', 'GMB_03', 'GMB_03', 'GMB_03', 'GMB_03', 'GMB_03', 'GMB_03', 'GMB_03', 'GMB_03', 'GMB_03', 'GMB_03', 'GMB_03', 'GMB_03', 'GMB_03', 'GMB_03', 'GMB_03', 'GMB_03', 'GMB_03', 'GMB_03', 'GMB_03', 'GMB_03', 'GMB_03', 'GMB_03', 'GMB_03', 'GMB_03', 'GMB_03', 'GMB_03', 'GMB_03', 'GMB_03', 'GMB_03', 'GMB_03', 'GMB_03', 'GMB_03', 'GMB_03', 'GMB_03', 'GMB_03', 'GMB_03', 'GMB_03', 'GMB_03', 'GMB_03', 'GMB_03', 'GMB_03', 'GMB_03', 'GMB_03', 'GMB_03', 'GMB_03', 'GMB_03', 'GMB_03', 'GMB_03', 'GMB_03', 'GMB_03', 'GMB_03', 'GMB_03', 'GMB_03', 'GMB_03', 'GMB_03', 'GMB_03', 'GMB_03', 'GMB_03', 'GMB_03', 'GMB_03', 'GMB_03', 'GMB_03', 'GMB_03', 'GMB_03', 'GMB_03', 'GMB_03', 'GMB_03', 'GMB_03', 'GMB_03', 'GMB_03', 'GMB_03', 'GMB_03', 'GMB_03', 'GMB_03', 'GMB_03', 'GMB_03', 'GMB_03', 'GMB_03', 'GMB_03', 'GMB_03', 'GMB_03', 'GMB_03', 'GMB_03', 'GMB_03', 'GMB_03', 'GMB_03', 'GMB_03', 'GMB_03', 'GMB_03', 'GMB_03', 'GMB_03', 'GMB_03', 'GMB_03', 'GMB_03', 'GMB_03', 'GMB_03', 'GMB_03', 'GMB_03']\n"
          ],
          "name": "stdout"
        }
      ]
    },
    {
      "cell_type": "code",
      "metadata": {
        "id": "kd3FCvDqtgRE"
      },
      "source": [
        "\n",
        "lb = LabelBinarizer()\n",
        "labels = lb.fit_transform(labels)"
      ],
      "execution_count": 8,
      "outputs": []
    },
    {
      "cell_type": "code",
      "metadata": {
        "colab": {
          "base_uri": "https://localhost:8080/"
        },
        "id": "JBuYiWRrtjOR",
        "outputId": "7a9b90f9-ee08-41a5-e656-4653d67b58b5"
      },
      "source": [
        "print(labels)"
      ],
      "execution_count": 9,
      "outputs": [
        {
          "output_type": "stream",
          "text": [
            "[[0 0 0 1 0]\n",
            " [0 0 0 1 0]\n",
            " [0 0 0 1 0]\n",
            " ...\n",
            " [0 1 0 0 0]\n",
            " [0 1 0 0 0]\n",
            " [0 1 0 0 0]]\n"
          ],
          "name": "stdout"
        }
      ]
    },
    {
      "cell_type": "code",
      "metadata": {
        "colab": {
          "base_uri": "https://localhost:8080/"
        },
        "id": "5jHusHDZtnih",
        "outputId": "117a58a2-eab1-4511-b76c-f6760b2e047c"
      },
      "source": [
        "# perform a training and testing split, using 75% of the data for\n",
        "# training and 25% for evaluation\n",
        "(trainX, testX, trainY, testY) = train_test_split(np.array(data),\tnp.array(labels), test_size=0.25, shuffle=True)\n",
        "print(trainX.shape)\n",
        "print(testX.shape)"
      ],
      "execution_count": 10,
      "outputs": [
        {
          "output_type": "stream",
          "text": [
            "(438, 32, 32, 3)\n",
            "(147, 32, 32, 3)\n"
          ],
          "name": "stdout"
        }
      ]
    },
    {
      "cell_type": "code",
      "metadata": {
        "colab": {
          "base_uri": "https://localhost:8080/"
        },
        "id": "J8wqfnrPtx9j",
        "outputId": "e82f506a-0f0f-4d14-f7ca-0e9a5ff6e156"
      },
      "source": [
        "from keras.layers import Convolution2D, MaxPooling2D\n",
        "from keras.models import Sequential\n",
        "from keras.layers.core import Flatten, Dense\n",
        "\n",
        "model1 = Sequential()\n",
        "model1.add(Convolution2D(32, (3,3), activation='relu', input_shape=(32,32,3)))\n",
        "model1.add(MaxPooling2D(2,2))\n",
        "model1.add(Convolution2D(64, (3,3), activation='relu'))\n",
        "model1.add(MaxPooling2D(2,2))\n",
        "model1.add(Convolution2D(64, (3,3), activation='relu'))\n",
        "model1.add(MaxPooling2D(2,2))\n",
        "#fully connected layer\n",
        "model1.add(Flatten())\n",
        "model1.add(Dense(100, activation='relu'))\n",
        "model1.add(Dense(5, activation='softmax'))\n",
        "\n",
        "model1.summary()"
      ],
      "execution_count": 12,
      "outputs": [
        {
          "output_type": "stream",
          "text": [
            "Model: \"sequential_1\"\n",
            "_________________________________________________________________\n",
            "Layer (type)                 Output Shape              Param #   \n",
            "=================================================================\n",
            "conv2d_3 (Conv2D)            (None, 30, 30, 32)        896       \n",
            "_________________________________________________________________\n",
            "max_pooling2d_3 (MaxPooling2 (None, 15, 15, 32)        0         \n",
            "_________________________________________________________________\n",
            "conv2d_4 (Conv2D)            (None, 13, 13, 64)        18496     \n",
            "_________________________________________________________________\n",
            "max_pooling2d_4 (MaxPooling2 (None, 6, 6, 64)          0         \n",
            "_________________________________________________________________\n",
            "conv2d_5 (Conv2D)            (None, 4, 4, 64)          36928     \n",
            "_________________________________________________________________\n",
            "max_pooling2d_5 (MaxPooling2 (None, 2, 2, 64)          0         \n",
            "_________________________________________________________________\n",
            "flatten_1 (Flatten)          (None, 256)               0         \n",
            "_________________________________________________________________\n",
            "dense_2 (Dense)              (None, 100)               25700     \n",
            "_________________________________________________________________\n",
            "dense_3 (Dense)              (None, 5)                 505       \n",
            "=================================================================\n",
            "Total params: 82,525\n",
            "Trainable params: 82,525\n",
            "Non-trainable params: 0\n",
            "_________________________________________________________________\n"
          ],
          "name": "stdout"
        }
      ]
    },
    {
      "cell_type": "code",
      "metadata": {
        "colab": {
          "base_uri": "https://localhost:8080/"
        },
        "id": "0ozJ-waot3kX",
        "outputId": "94ba42c2-0ed3-46fe-8bc3-384e1e077873"
      },
      "source": [
        "#train the model using the Adam optimizer\n",
        "print(\"[INFO] training network...\")\n",
        "opt = Adam(lr=1e-3, decay=1e-3 / 50)\n",
        "model1.compile(loss=\"categorical_crossentropy\", optimizer=opt, metrics=[\"accuracy\"])"
      ],
      "execution_count": 13,
      "outputs": [
        {
          "output_type": "stream",
          "text": [
            "[INFO] training network...\n"
          ],
          "name": "stdout"
        }
      ]
    },
    {
      "cell_type": "code",
      "metadata": {
        "colab": {
          "base_uri": "https://localhost:8080/"
        },
        "id": "coVqruJkt9yt",
        "outputId": "2c42fd6e-ebb7-4047-c79a-1f063207ebab"
      },
      "source": [
        "H = model1.fit(trainX, trainY, validation_data=(testX, testY), epochs=38, batch_size=42)"
      ],
      "execution_count": 14,
      "outputs": [
        {
          "output_type": "stream",
          "text": [
            "Epoch 1/38\n",
            "11/11 [==============================] - 1s 67ms/step - loss: 1.5996 - accuracy: 0.2100 - val_loss: 1.5897 - val_accuracy: 0.2857\n",
            "Epoch 2/38\n",
            "11/11 [==============================] - 1s 51ms/step - loss: 1.5323 - accuracy: 0.3858 - val_loss: 1.5202 - val_accuracy: 0.2857\n",
            "Epoch 3/38\n",
            "11/11 [==============================] - 1s 53ms/step - loss: 1.3837 - accuracy: 0.4726 - val_loss: 1.3277 - val_accuracy: 0.3605\n",
            "Epoch 4/38\n",
            "11/11 [==============================] - 1s 52ms/step - loss: 1.1541 - accuracy: 0.5571 - val_loss: 1.1544 - val_accuracy: 0.5850\n",
            "Epoch 5/38\n",
            "11/11 [==============================] - 1s 52ms/step - loss: 1.0222 - accuracy: 0.6073 - val_loss: 1.1997 - val_accuracy: 0.5238\n",
            "Epoch 6/38\n",
            "11/11 [==============================] - 1s 53ms/step - loss: 0.9547 - accuracy: 0.6438 - val_loss: 0.9892 - val_accuracy: 0.6259\n",
            "Epoch 7/38\n",
            "11/11 [==============================] - 1s 52ms/step - loss: 0.9474 - accuracy: 0.6164 - val_loss: 1.1040 - val_accuracy: 0.5442\n",
            "Epoch 8/38\n",
            "11/11 [==============================] - 1s 53ms/step - loss: 0.8945 - accuracy: 0.6644 - val_loss: 0.9041 - val_accuracy: 0.6327\n",
            "Epoch 9/38\n",
            "11/11 [==============================] - 1s 54ms/step - loss: 0.8366 - accuracy: 0.6918 - val_loss: 0.8858 - val_accuracy: 0.6667\n",
            "Epoch 10/38\n",
            "11/11 [==============================] - 1s 53ms/step - loss: 0.7584 - accuracy: 0.7329 - val_loss: 0.8131 - val_accuracy: 0.6531\n",
            "Epoch 11/38\n",
            "11/11 [==============================] - 1s 52ms/step - loss: 0.7465 - accuracy: 0.7169 - val_loss: 0.9021 - val_accuracy: 0.5986\n",
            "Epoch 12/38\n",
            "11/11 [==============================] - 1s 54ms/step - loss: 0.7218 - accuracy: 0.7237 - val_loss: 0.8294 - val_accuracy: 0.7007\n",
            "Epoch 13/38\n",
            "11/11 [==============================] - 1s 53ms/step - loss: 0.6693 - accuracy: 0.7717 - val_loss: 0.7510 - val_accuracy: 0.6939\n",
            "Epoch 14/38\n",
            "11/11 [==============================] - 1s 53ms/step - loss: 0.6144 - accuracy: 0.7763 - val_loss: 0.7906 - val_accuracy: 0.6871\n",
            "Epoch 15/38\n",
            "11/11 [==============================] - 1s 52ms/step - loss: 0.6431 - accuracy: 0.7922 - val_loss: 0.7909 - val_accuracy: 0.6871\n",
            "Epoch 16/38\n",
            "11/11 [==============================] - 1s 53ms/step - loss: 0.5673 - accuracy: 0.7922 - val_loss: 0.7168 - val_accuracy: 0.7483\n",
            "Epoch 17/38\n",
            "11/11 [==============================] - 1s 54ms/step - loss: 0.5607 - accuracy: 0.7945 - val_loss: 0.7257 - val_accuracy: 0.7211\n",
            "Epoch 18/38\n",
            "11/11 [==============================] - 1s 51ms/step - loss: 0.5280 - accuracy: 0.8014 - val_loss: 0.5915 - val_accuracy: 0.8027\n",
            "Epoch 19/38\n",
            "11/11 [==============================] - 1s 53ms/step - loss: 0.4956 - accuracy: 0.8265 - val_loss: 0.7245 - val_accuracy: 0.7483\n",
            "Epoch 20/38\n",
            "11/11 [==============================] - 1s 53ms/step - loss: 0.4694 - accuracy: 0.8447 - val_loss: 0.5858 - val_accuracy: 0.7755\n",
            "Epoch 21/38\n",
            "11/11 [==============================] - 1s 53ms/step - loss: 0.4369 - accuracy: 0.8447 - val_loss: 0.6854 - val_accuracy: 0.7415\n",
            "Epoch 22/38\n",
            "11/11 [==============================] - 1s 53ms/step - loss: 0.4544 - accuracy: 0.8470 - val_loss: 0.5768 - val_accuracy: 0.8095\n",
            "Epoch 23/38\n",
            "11/11 [==============================] - 1s 52ms/step - loss: 0.4046 - accuracy: 0.8699 - val_loss: 0.6173 - val_accuracy: 0.7687\n",
            "Epoch 24/38\n",
            "11/11 [==============================] - 1s 54ms/step - loss: 0.3793 - accuracy: 0.8813 - val_loss: 0.6232 - val_accuracy: 0.7823\n",
            "Epoch 25/38\n",
            "11/11 [==============================] - 1s 53ms/step - loss: 0.3549 - accuracy: 0.8836 - val_loss: 0.5809 - val_accuracy: 0.7823\n",
            "Epoch 26/38\n",
            "11/11 [==============================] - 1s 53ms/step - loss: 0.3443 - accuracy: 0.8836 - val_loss: 0.5848 - val_accuracy: 0.7823\n",
            "Epoch 27/38\n",
            "11/11 [==============================] - 1s 56ms/step - loss: 0.3296 - accuracy: 0.8836 - val_loss: 0.5017 - val_accuracy: 0.8571\n",
            "Epoch 28/38\n",
            "11/11 [==============================] - 1s 55ms/step - loss: 0.3544 - accuracy: 0.8767 - val_loss: 0.5756 - val_accuracy: 0.8299\n",
            "Epoch 29/38\n",
            "11/11 [==============================] - 1s 53ms/step - loss: 0.3074 - accuracy: 0.8973 - val_loss: 0.7188 - val_accuracy: 0.7755\n",
            "Epoch 30/38\n",
            "11/11 [==============================] - 1s 54ms/step - loss: 0.2970 - accuracy: 0.8995 - val_loss: 0.5938 - val_accuracy: 0.8027\n",
            "Epoch 31/38\n",
            "11/11 [==============================] - 1s 53ms/step - loss: 0.2435 - accuracy: 0.9178 - val_loss: 0.4984 - val_accuracy: 0.8367\n",
            "Epoch 32/38\n",
            "11/11 [==============================] - 1s 53ms/step - loss: 0.2381 - accuracy: 0.9247 - val_loss: 0.4756 - val_accuracy: 0.8503\n",
            "Epoch 33/38\n",
            "11/11 [==============================] - 1s 53ms/step - loss: 0.2217 - accuracy: 0.9338 - val_loss: 0.5936 - val_accuracy: 0.8299\n",
            "Epoch 34/38\n",
            "11/11 [==============================] - 1s 52ms/step - loss: 0.2422 - accuracy: 0.9315 - val_loss: 0.4879 - val_accuracy: 0.8503\n",
            "Epoch 35/38\n",
            "11/11 [==============================] - 1s 55ms/step - loss: 0.2033 - accuracy: 0.9384 - val_loss: 0.5482 - val_accuracy: 0.8095\n",
            "Epoch 36/38\n",
            "11/11 [==============================] - 1s 53ms/step - loss: 0.1955 - accuracy: 0.9384 - val_loss: 0.5418 - val_accuracy: 0.8231\n",
            "Epoch 37/38\n",
            "11/11 [==============================] - 1s 53ms/step - loss: 0.1852 - accuracy: 0.9384 - val_loss: 0.4982 - val_accuracy: 0.8435\n",
            "Epoch 38/38\n",
            "11/11 [==============================] - 1s 55ms/step - loss: 0.2106 - accuracy: 0.9315 - val_loss: 0.6172 - val_accuracy: 0.8095\n"
          ],
          "name": "stdout"
        }
      ]
    },
    {
      "cell_type": "code",
      "metadata": {
        "colab": {
          "base_uri": "https://localhost:8080/",
          "height": 590
        },
        "id": "ibnIkfRHuIIP",
        "outputId": "9aae4c5a-c4f0-4259-957b-5e7bb8ef6db6"
      },
      "source": [
        "import matplotlib.pyplot as plt\n",
        "\n",
        "print(H.history.keys())\n",
        "# summarize history for accuracy\n",
        "plt.plot(H.history['accuracy'])\n",
        "plt.plot(H.history['val_accuracy'])\n",
        "plt.title('model accuracy')\n",
        "plt.ylabel('accuracy')\n",
        "plt.xlabel('epoch')\n",
        "plt.legend(['train', 'test'], loc='upper left')\n",
        "plt.show()\n",
        "# summarize history for loss\n",
        "plt.plot(H.history['loss'])\n",
        "plt.plot(H.history['val_loss'])\n",
        "plt.title('model loss')\n",
        "plt.ylabel('loss')\n",
        "plt.xlabel('epoch')\n",
        "plt.legend(['train', 'test'], loc='upper left')\n",
        "plt.show()"
      ],
      "execution_count": 15,
      "outputs": [
        {
          "output_type": "stream",
          "text": [
            "dict_keys(['loss', 'accuracy', 'val_loss', 'val_accuracy'])\n"
          ],
          "name": "stdout"
        },
        {
          "output_type": "display_data",
          "data": {
            "image/png": "[encoded data removed]",
            "text/plain": [
              "<Figure size 432x288 with 1 Axes>"
            ]
          },
          "metadata": {
            "tags": [],
            "needs_background": "light"
          }
        },
        {
          "output_type": "display_data",
          "data": {
            "image/png": "[encoded data removed]",
            "text/plain": [
              "<Figure size 432x288 with 1 Axes>"
            ]
          },
          "metadata": {
            "tags": [],
            "needs_background": "light"
          }
        }
      ]
    },
    {
      "cell_type": "code",
      "metadata": {
        "colab": {
          "base_uri": "https://localhost:8080/"
        },
        "id": "ZIm6CZKwuMJr",
        "outputId": "c369a979-708d-462b-fe4e-45a405449018"
      },
      "source": [
        "# evaluate the network\n",
        "print(\"[INFO] evaluating network...\")\n",
        "predictions = model1.predict(testX, batch_size=42)\n",
        "print(classification_report(testY.argmax(axis=1),\n",
        "\tpredictions.argmax(axis=1), target_names=lb.classes_))"
      ],
      "execution_count": 16,
      "outputs": [
        {
          "output_type": "stream",
          "text": [
            "[INFO] evaluating network...\n",
            "              precision    recall  f1-score   support\n",
            "\n",
            "      GMB_01       0.57      1.00      0.73        23\n",
            "      GMB_03       0.94      0.88      0.91        33\n",
            "      GMB_05       0.77      0.88      0.82        26\n",
            "      GMB_07       0.90      0.50      0.64        38\n",
            "      GMB_09       1.00      0.93      0.96        27\n",
            "\n",
            "    accuracy                           0.81       147\n",
            "   macro avg       0.84      0.84      0.81       147\n",
            "weighted avg       0.85      0.81      0.81       147\n",
            "\n"
          ],
          "name": "stdout"
        }
      ]
    }
  ]
}